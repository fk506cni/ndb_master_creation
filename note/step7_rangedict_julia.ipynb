{
 "cells": [
  {
   "cell_type": "code",
   "execution_count": 1,
   "id": "41569457-7793-40d0-a4bb-25b1d36d3863",
   "metadata": {},
   "outputs": [],
   "source": [
    "using JSON\n",
    "using DataFrames\n",
    "using DataFramesMeta\n",
    "using Dates\n",
    "using ShiftedArrays\n",
    "using OrderedCollections"
   ]
  },
  {
   "cell_type": "code",
   "execution_count": 2,
   "id": "4dea9731-5a11-4e7d-9866-f10f64e7d3eb",
   "metadata": {},
   "outputs": [
    {
     "data": {
      "text/plain": [
       "\"../share2/ndb_master_creation/output_iy/iycode_610406002_20240623_112942_859217.json\""
      ]
     },
     "execution_count": 2,
     "metadata": {},
     "output_type": "execute_result"
    }
   ],
   "source": [
    "f = \"../share2/ndb_master_creation/output_iy/iycode_610406002_20240623_112942_859217.json\""
   ]
  },
  {
   "cell_type": "code",
   "execution_count": 3,
   "id": "b6912af3-1a81-4615-a8bb-8d9d79e34f2b",
   "metadata": {},
   "outputs": [
    {
     "data": {
      "text/plain": [
       "Dict{String, Any} with 11 entries:\n",
       "  \"cat_generic\"     => 1.0\n",
       "  \"dt_start\"        => \"2010-01-01\"\n",
       "  \"nplcode\"         => \"2123014F2031\"\n",
       "  \"dt_end\"          => \"2024-06-22\"\n",
       "  \"dt\"              => Dict{String, Any}(\"2012-05-16\"=>Dict{String, Any}(\"point…\n",
       "  \"name\"            => \"アストニール錠１０　１０ｍｇ\"\n",
       "  \"cat_neuro_break\" => 0.0\n",
       "  \"drugcode\"        => 610406002\n",
       "  \"cat_for_mental\"  => 0.0\n",
       "  \"unit\"            => \"錠\"\n",
       "  \"cat_bio\"         => 0.0"
      ]
     },
     "execution_count": 3,
     "metadata": {},
     "output_type": "execute_result"
    }
   ],
   "source": [
    "d = JSON.parsefile(f)"
   ]
  },
  {
   "cell_type": "code",
   "execution_count": 4,
   "id": "fa014615-d0c2-4da9-bafc-2596a090f030",
   "metadata": {},
   "outputs": [],
   "source": [
    "# df = DataFrames.DataFrame(d[\"dt\"])\n",
    "l_dt = []\n",
    "l_pt = []\n",
    "l_st = []\n",
    "for (k,v) in d[\"dt\"]\n",
    "    # print(k)\n",
    "    push!(l_dt, k)\n",
    "    push!(l_pt, v[\"point\"])\n",
    "    push!(l_st, v[\"tag\"])\n",
    "    # break\n",
    "end"
   ]
  },
  {
   "cell_type": "code",
   "execution_count": 5,
   "id": "2b4514bf-9f7b-4dde-865d-cd918e12d50a",
   "metadata": {},
   "outputs": [
    {
     "data": {
      "text/plain": [
       "Dict{String, Vector{Any}} with 1 entry:\n",
       "  \"dt\" => [\"2012-05-16\", \"2017-09-04\", \"2019-05-04\", \"2010-05-24\", \"2010-02-21\"…"
      ]
     },
     "execution_count": 5,
     "metadata": {},
     "output_type": "execute_result"
    }
   ],
   "source": [
    "Dict(\"dt\"=>l_dt)"
   ]
  },
  {
   "cell_type": "code",
   "execution_count": 6,
   "id": "424bdc1a-18c2-4e6e-b003-a9c28fb73177",
   "metadata": {},
   "outputs": [
    {
     "data": {
      "text/plain": [
       "OrderedDict{Any, Any} with 3 entries:\n",
       "  Date(\"2010-01-01\") => Dict{String, Any}(\"point\"=>14.1, \"tag\"=>\"bdm\")\n",
       "  Date(\"2012-05-02\") => Dict{String, Any}(\"point\"=>13.1, \"tag\"=>\"ws\")\n",
       "  Date(\"2013-04-02\") => Dict{String, Any}(\"point\"=>13.1, \"tag\"=>\"aes\")"
      ]
     },
     "execution_count": 6,
     "metadata": {},
     "output_type": "execute_result"
    }
   ],
   "source": [
    "df = DataFrames.DataFrame(\n",
    "    Dict(\"dt\"=>l_dt,\n",
    "         \"point\"=>l_pt,\n",
    "         \"tag\"=>l_st)\n",
    ")\n",
    "\n",
    "d_dt = @chain df begin\n",
    "    @transform(:dt_dt =Dates.Date.(:dt))\n",
    "    @orderby(:dt_dt)\n",
    "    @transform(:lag_tag =ShiftedArrays.lag(:tag, default = \"\"))\n",
    "    @transform(:lag_dt =ShiftedArrays.lag(:dt, default = \"\"))\n",
    "    @transform(:lag_point =ShiftedArrays.lag(:point, default = 0))\n",
    "    @transform(:is_same_tag = :tag .== :lag_tag)\n",
    "    @transform(:is_same_point = :point .== :lag_point)\n",
    "    @transform(:is_same_two = :is_same_tag .& :is_same_point)\n",
    "    @subset(:is_same_two .== false)\n",
    "    @select(:dt_dt, :tag, :point)\n",
    "end\n",
    "\n",
    "d_dict = OrderedDict()\n",
    "\n",
    "for r in eachrow(d_dt)\n",
    "    # println(r)\n",
    "    d_dict[r.dt_dt] = Dict(\"tag\"=> r.tag, \"point\"=> r.point)\n",
    "end\n",
    "# d_dict =  Dict(d_dt.dt_dt .=> eachrow([d_dt.tag d_dt.Y]))\n",
    "# d_1st = d_dt[!,\"dt\"]\n",
    "d_dict"
   ]
  },
  {
   "cell_type": "code",
   "execution_count": 7,
   "id": "961607b5-d1a0-42ae-b657-f0566750c99a",
   "metadata": {},
   "outputs": [
    {
     "data": {
      "text/plain": [
       "get_rd (generic function with 1 method)"
      ]
     },
     "execution_count": 7,
     "metadata": {},
     "output_type": "execute_result"
    }
   ],
   "source": [
    "# module rangedict\n",
    "#     using DataFramesMeta\n",
    "#     using JSON\n",
    "#     using DataFrames\n",
    "#     using Dates\n",
    "#     using ShiftedArrays\n",
    "#     using OrderedCollections\n",
    "#     export RangeDict\n",
    "    \n",
    "    struct RangeDict\n",
    "        d_1st\n",
    "        d_dict\n",
    "        d_meta\n",
    "    end\n",
    "    \n",
    "    function gen_rd(f)\n",
    "        d = JSON.parsefile(f)\n",
    "        dts = pop!(d, \"dt\")\n",
    "        l_dt = []\n",
    "        l_pt = []\n",
    "        l_st = []\n",
    "        for (k,v) in dts\n",
    "            # print(k)\n",
    "            push!(l_dt, k)\n",
    "            push!(l_pt, v[\"point\"])\n",
    "            push!(l_st, v[\"tag\"])\n",
    "            # break\n",
    "        end\n",
    "        df = DataFrames.DataFrame(\n",
    "            Dict(\"dt\"=>l_dt,\n",
    "                 \"point\"=>l_pt,\n",
    "                 \"tag\"=>l_st)\n",
    "            )\n",
    "        \n",
    "        d_dt = @chain df begin\n",
    "            @transform(:dt_dt =Dates.Date.(:dt))\n",
    "            @orderby(:dt_dt)\n",
    "            @transform(:lag_tag =ShiftedArrays.lag(:tag, default = \"\"))\n",
    "            @transform(:lag_dt =ShiftedArrays.lag(:dt, default = \"\"))\n",
    "            @transform(:lag_point =ShiftedArrays.lag(:point, default = 0))\n",
    "            @transform(:is_same_tag = :tag .== :lag_tag)\n",
    "            @transform(:is_same_point = :point .== :lag_point)\n",
    "            @transform(:is_same_two = :is_same_tag .& :is_same_point)\n",
    "            @subset(:is_same_two .== false)\n",
    "            @select(:dt_dt, :tag, :point)\n",
    "        end\n",
    "        \n",
    "        d_dict = OrderedDict()\n",
    "        d_1st = Dict()\n",
    "        for r in eachrow(d_dt)\n",
    "            if length(keys(d_1st)) == 0\n",
    "                d_1st = Dict(\"tag\"=> r.tag, \"point\"=> r.point)\n",
    "            end\n",
    "            # println(r)\n",
    "            d_dict[r.dt_dt] = Dict(\"tag\"=> r.tag, \"point\"=> r.point)\n",
    "        end\n",
    "    rd_ = RangeDict(d_1st, d_dict, d)\n",
    "    return rd_\n",
    "    end\n",
    "\n",
    "    function get_rd(self::RangeDict, dt)\n",
    "        dt = Dates.Date(dt)\n",
    "        res = self.d_1st\n",
    "        for (k,v) in self.d_dict\n",
    "            if dt < k\n",
    "                break\n",
    "            else\n",
    "                res = copy(v)\n",
    "            end\n",
    "        end\n",
    "        return res\n",
    "    end\n",
    "\n",
    "# end"
   ]
  },
  {
   "cell_type": "code",
   "execution_count": 8,
   "id": "0a0dd9c2-84d0-49cd-bd9a-3cce0e20bd09",
   "metadata": {},
   "outputs": [
    {
     "data": {
      "text/plain": [
       "1"
      ]
     },
     "execution_count": 8,
     "metadata": {},
     "output_type": "execute_result"
    }
   ],
   "source": [
    "101 % 100"
   ]
  },
  {
   "cell_type": "code",
   "execution_count": 9,
   "id": "249640cd-f990-4b17-9680-87ac6735a0c4",
   "metadata": {
    "collapsed": true,
    "jupyter": {
     "outputs_hidden": true
    }
   },
   "outputs": [
    {
     "name": "stdout",
     "output_type": "stream",
     "text": [
      "1000\n",
      "2000\n",
      "3000\n",
      "4000\n",
      "5000\n",
      "6000\n",
      "7000\n",
      "8000\n",
      "9000\n",
      "10000\n",
      "11000\n",
      "12000\n",
      "13000\n",
      "14000\n",
      "15000\n",
      "16000\n",
      "17000\n",
      "18000\n",
      "19000\n",
      "20000\n",
      "21000\n",
      "22000\n",
      "23000\n",
      "24000\n",
      "25000\n",
      "26000\n",
      "27000\n",
      "28000\n",
      "29000\n",
      "30000\n",
      "31000\n"
     ]
    }
   ],
   "source": [
    "ts = \"20240623_112942_859217\"\n",
    "d_fs = \"../share2/ndb_master_creation/output_iy/\"\n",
    "fs = readdir(\"../share2/ndb_master_creation/output_iy/\")\n",
    "fs = [f for f in fs if occursin(ts, f)]\n",
    "rd_iy = Dict{String,Any}()\n",
    "for (i,f) in enumerate(fs)\n",
    "    if i % 1000 == 0\n",
    "        println(i)\n",
    "    end\n",
    "    pth = d_fs*f\n",
    "    tag = f[8:16]\n",
    "    # println(f)\n",
    "    # println(tag)\n",
    "    rd_iy[tag] = gen_rd(pth)\n",
    "    # break\n",
    "end"
   ]
  },
  {
   "cell_type": "code",
   "execution_count": 10,
   "id": "8e26edad-5ed5-4832-98d2-d4ba0057a55a",
   "metadata": {},
   "outputs": [
    {
     "data": {
      "text/plain": [
       "31892"
      ]
     },
     "execution_count": 10,
     "metadata": {},
     "output_type": "execute_result"
    }
   ],
   "source": [
    "length(keys(rd_iy))"
   ]
  },
  {
   "cell_type": "code",
   "execution_count": 13,
   "id": "4ca8327f-2c68-445c-a06f-c9ee69eef0f9",
   "metadata": {},
   "outputs": [
    {
     "data": {
      "text/plain": [
       "Dict{String, Any} with 2 entries:\n",
       "  \"point\" => 13.1\n",
       "  \"tag\"   => \"aes\""
      ]
     },
     "execution_count": 13,
     "metadata": {},
     "output_type": "execute_result"
    }
   ],
   "source": [
    "\n",
    "get_rd(rd_iy[\"610406002\"], \"2014-03-12\")\n"
   ]
  },
  {
   "cell_type": "code",
   "execution_count": null,
   "id": "1fa27acf-8518-4d38-8e29-8d7b6044fac2",
   "metadata": {},
   "outputs": [],
   "source": []
  }
 ],
 "metadata": {
  "kernelspec": {
   "display_name": "Julia 1.8.5",
   "language": "julia",
   "name": "julia-1.8"
  },
  "language_info": {
   "file_extension": ".jl",
   "mimetype": "application/julia",
   "name": "julia",
   "version": "1.8.5"
  }
 },
 "nbformat": 4,
 "nbformat_minor": 5
}
