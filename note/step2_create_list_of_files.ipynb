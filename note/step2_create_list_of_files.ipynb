{
 "cells": [
  {
   "cell_type": "markdown",
   "id": "7caf8a09-bb80-46b8-9193-a2e4ac1bc30e",
   "metadata": {},
   "source": [
    "# create a list of master files for analysis"
   ]
  },
  {
   "cell_type": "code",
   "execution_count": 4,
   "id": "aebc396b-8bf2-4735-9b8a-17c8bf54b36c",
   "metadata": {
    "tags": []
   },
   "outputs": [
    {
     "data": {
      "text/plain": [
       "'20240623_111843_065477'"
      ]
     },
     "execution_count": 4,
     "metadata": {},
     "output_type": "execute_result"
    }
   ],
   "source": [
    "import glob\n",
    "import pandas as pd\n",
    "import json\n",
    "import pathlib\n",
    "import hashlib\n",
    "import json\n",
    "import os\n",
    "import glob\n",
    "import datetime\n",
    "# import shutil\n",
    "import zipfile\n",
    "ts = datetime.datetime.now().strftime(\"%Y%m%d_%H%M%S_%f\")\n",
    "ts"
   ]
  },
  {
   "cell_type": "code",
   "execution_count": 5,
   "id": "b58a76cf-8d0d-4a79-9447-71dff66eb4ca",
   "metadata": {
    "tags": []
   },
   "outputs": [],
   "source": [
    "d_kikin = \"/mnt/d/kikin/\""
   ]
  },
  {
   "cell_type": "code",
   "execution_count": 6,
   "id": "ce36ce63-1c02-47d8-aa20-f1d5662f2a24",
   "metadata": {
    "tags": []
   },
   "outputs": [
    {
     "data": {
      "text/plain": [
       "['/mnt/d/kikin/www.ssk.or.jp/seikyushiharai/tensuhyo/ikashika/ikashika_001.files/i_kaiteinaiyo_20240306.zip',\n",
       " '/mnt/d/kikin/www.ssk.or.jp/seikyushiharai/tensuhyo/ikashika/ikashika_001.files/i_kaiteinaiyo_20240321.zip',\n",
       " '/mnt/d/kikin/www.ssk.or.jp/seikyushiharai/tensuhyo/ikashika/ikashika_001.files/i_kaiteinaiyo_20240329.zip']"
      ]
     },
     "execution_count": 6,
     "metadata": {},
     "output_type": "execute_result"
    }
   ],
   "source": [
    "zs = glob.glob(d_kikin + \"**/*.zip\", recursive=True)\n",
    "zs[:3]"
   ]
  },
  {
   "cell_type": "markdown",
   "id": "0c553733-71fb-4cdb-b0dc-35c041edcdac",
   "metadata": {},
   "source": [
    "文字化けに対応しつつ解凍"
   ]
  },
  {
   "cell_type": "code",
   "execution_count": 7,
   "id": "af34ea60-6d44-450e-856d-b266226f77fe",
   "metadata": {
    "tags": []
   },
   "outputs": [],
   "source": [
    "for f in zs:\n",
    "    # print(f)\n",
    "    f_out = f.replace(\".zip\", \"\")\n",
    "    # print(f_out)\n",
    "    with zipfile.ZipFile(f) as z:\n",
    "        for info in z.infolist():\n",
    "            info.filename = info.orig_filename.encode('cp437').decode('cp932')\n",
    "            if os.sep != \"/\" and os.sep in info.filename:\n",
    "                info.filename = info.filename.replace(os.sep, \"/\")\n",
    "            z.extract(info,f_out)\n",
    "    \n",
    "    # break"
   ]
  },
  {
   "cell_type": "code",
   "execution_count": 14,
   "id": "06504243-e8ea-4675-ad01-8d53b8c730ba",
   "metadata": {
    "tags": []
   },
   "outputs": [
    {
     "data": {
      "text/plain": [
       "['/mnt/d/kikin/www.ssk.or.jp/seikyushiharai/tensuhyo/ikashika/ikashika_001.files/osirase_04/サンプル/05算定回数テーブル.csv',\n",
       " '/mnt/d/kikin/www.ssk.or.jp/seikyushiharai/tensuhyo/ikashika/ikashika_001.files/tensuhyo_02_20120213/tensuhyo_02/01補助マスターテーブル.csv',\n",
       " '/mnt/d/kikin/www.ssk.or.jp/seikyushiharai/tensuhyo/ikashika/ikashika_001.files/tensuhyo_02_20120213/tensuhyo_02/02包括テーブル.csv']"
      ]
     },
     "execution_count": 14,
     "metadata": {},
     "output_type": "execute_result"
    }
   ],
   "source": [
    "fs = glob.glob(d_kikin + \"**/*.csv\", recursive=True)\n",
    "fs[:3]"
   ]
  },
  {
   "cell_type": "code",
   "execution_count": 15,
   "id": "aaacdeee-3f25-4440-a76a-5d644fc0601f",
   "metadata": {
    "tags": []
   },
   "outputs": [],
   "source": [
    "def get_meta_dict(fs):\n",
    "    d_meta = dict()\n",
    "    for f in fs:\n",
    "        d_meta[f] = dict()\n",
    "        with open(f,'rb') as file:\n",
    "            BinaryData = file.read()\n",
    "            d_meta[f][\"sha256\"] = hashlib.sha256(BinaryData).hexdigest()\n",
    "            d_meta[f][\"md5\"] = hashlib.md5(BinaryData).hexdigest()\n",
    "\n",
    "        s = os.path.getsize(f)\n",
    "        d_meta[f][\"size\"] = str(s/(2**10)) + \"kB\"\n",
    "\n",
    "        t = os.path.getmtime(f)\n",
    "        d_meta[f][\"lastfmodification\"] = str(datetime.datetime.fromtimestamp(t))\n",
    "\n",
    "        t = os.path.getctime(f)\n",
    "        d_meta[f][\"filecreation\"] = str(datetime.datetime.fromtimestamp(t))\n",
    "\n",
    "    return d_meta"
   ]
  },
  {
   "cell_type": "code",
   "execution_count": null,
   "id": "2e6c93ad-963d-4379-b362-e7f40bee0172",
   "metadata": {},
   "outputs": [],
   "source": []
  },
  {
   "cell_type": "markdown",
   "id": "1f08f468-4057-49fe-ba06-ce646ba549b7",
   "metadata": {},
   "source": [
    "ファイルのパス、親フォルダなどを得る関数  \n",
    "正直この処理は美しくないと思う"
   ]
  },
  {
   "cell_type": "code",
   "execution_count": 16,
   "id": "a982f7b4-a6be-42c3-b73c-8060878ecb5b",
   "metadata": {
    "tags": []
   },
   "outputs": [],
   "source": [
    "def get_file_atr_ds(ds, atr):\n",
    "    res = []\n",
    "    for f in ds:\n",
    "        p = pathlib.Path(f)\n",
    "        if atr == \"name\":\n",
    "            res.append(p.name)\n",
    "        elif atr == \"par\":\n",
    "            res.append(p.parent.name)\n",
    "        elif atr == \"gpar\":\n",
    "            res.append(p.parent.parent.name)\n",
    "        else:\n",
    "            res.append(\"\")\n",
    "    return res"
   ]
  },
  {
   "cell_type": "markdown",
   "id": "1b71763e-6cc2-44d3-b67a-d514dc4996f6",
   "metadata": {},
   "source": [
    "## note\n",
    "以下の系譜のR0504について、日付情報がルール逸脱。  \n",
    "美しくない個別処理がある。  \n",
    "増えるようなら処理を考える。  \n",
    "www.ssk.or.jp/seikyushiharai/tensuhyo/kihonmasta/kihonmasta_02.files/h-3_ALL2023201_R0504.csv\n"
   ]
  },
  {
   "cell_type": "code",
   "execution_count": 17,
   "id": "97abf02f-22b6-4bb9-b9c4-2dc6e457fd83",
   "metadata": {
    "tags": []
   },
   "outputs": [
    {
     "data": {
      "text/html": [
       "<div>\n",
       "<style scoped>\n",
       "    .dataframe tbody tr th:only-of-type {\n",
       "        vertical-align: middle;\n",
       "    }\n",
       "\n",
       "    .dataframe tbody tr th {\n",
       "        vertical-align: top;\n",
       "    }\n",
       "\n",
       "    .dataframe thead th {\n",
       "        text-align: right;\n",
       "    }\n",
       "</style>\n",
       "<table border=\"1\" class=\"dataframe\">\n",
       "  <thead>\n",
       "    <tr style=\"text-align: right;\">\n",
       "      <th></th>\n",
       "      <th>filepath</th>\n",
       "      <th>filename</th>\n",
       "      <th>parent</th>\n",
       "      <th>gparent</th>\n",
       "      <th>bearfile</th>\n",
       "      <th>timeinfo</th>\n",
       "      <th>prefix</th>\n",
       "      <th>ymdinfo</th>\n",
       "      <th>postfix</th>\n",
       "      <th>is_kaitei</th>\n",
       "      <th>ymd</th>\n",
       "      <th>next_month_day1</th>\n",
       "      <th>next_month_day2</th>\n",
       "    </tr>\n",
       "  </thead>\n",
       "  <tbody>\n",
       "    <tr>\n",
       "      <th>0</th>\n",
       "      <td>/mnt/d/kikin/www.ssk.or.jp/seikyushiharai/tens...</td>\n",
       "      <td>05算定回数テーブル.csv</td>\n",
       "      <td>サンプル</td>\n",
       "      <td>osirase_04</td>\n",
       "      <td>05算定回数テーブル</td>\n",
       "      <td></td>\n",
       "      <td>05算定回数テーブル</td>\n",
       "      <td></td>\n",
       "      <td></td>\n",
       "      <td>False</td>\n",
       "      <td>NaT</td>\n",
       "      <td>NaT</td>\n",
       "      <td>NaT</td>\n",
       "    </tr>\n",
       "    <tr>\n",
       "      <th>1</th>\n",
       "      <td>/mnt/d/kikin/www.ssk.or.jp/seikyushiharai/tens...</td>\n",
       "      <td>01補助マスターテーブル.csv</td>\n",
       "      <td>tensuhyo_02</td>\n",
       "      <td>tensuhyo_02_20120213</td>\n",
       "      <td>01補助マスターテーブル</td>\n",
       "      <td></td>\n",
       "      <td>01補助マスターテーブル</td>\n",
       "      <td></td>\n",
       "      <td></td>\n",
       "      <td>False</td>\n",
       "      <td>NaT</td>\n",
       "      <td>NaT</td>\n",
       "      <td>NaT</td>\n",
       "    </tr>\n",
       "    <tr>\n",
       "      <th>2</th>\n",
       "      <td>/mnt/d/kikin/www.ssk.or.jp/seikyushiharai/tens...</td>\n",
       "      <td>02包括テーブル.csv</td>\n",
       "      <td>tensuhyo_02</td>\n",
       "      <td>tensuhyo_02_20120213</td>\n",
       "      <td>02包括テーブル</td>\n",
       "      <td></td>\n",
       "      <td>02包括テーブル</td>\n",
       "      <td></td>\n",
       "      <td></td>\n",
       "      <td>False</td>\n",
       "      <td>NaT</td>\n",
       "      <td>NaT</td>\n",
       "      <td>NaT</td>\n",
       "    </tr>\n",
       "    <tr>\n",
       "      <th>3</th>\n",
       "      <td>/mnt/d/kikin/www.ssk.or.jp/seikyushiharai/tens...</td>\n",
       "      <td>03-1背反テーブル1.csv</td>\n",
       "      <td>tensuhyo_02</td>\n",
       "      <td>tensuhyo_02_20120213</td>\n",
       "      <td>03-1背反テーブル1</td>\n",
       "      <td>1</td>\n",
       "      <td>03-1背反テーブル</td>\n",
       "      <td>1</td>\n",
       "      <td></td>\n",
       "      <td>False</td>\n",
       "      <td>NaT</td>\n",
       "      <td>NaT</td>\n",
       "      <td>NaT</td>\n",
       "    </tr>\n",
       "    <tr>\n",
       "      <th>4</th>\n",
       "      <td>/mnt/d/kikin/www.ssk.or.jp/seikyushiharai/tens...</td>\n",
       "      <td>03-2背反テーブル2.csv</td>\n",
       "      <td>tensuhyo_02</td>\n",
       "      <td>tensuhyo_02_20120213</td>\n",
       "      <td>03-2背反テーブル2</td>\n",
       "      <td>2</td>\n",
       "      <td>03-2背反テーブル</td>\n",
       "      <td>2</td>\n",
       "      <td></td>\n",
       "      <td>False</td>\n",
       "      <td>NaT</td>\n",
       "      <td>NaT</td>\n",
       "      <td>NaT</td>\n",
       "    </tr>\n",
       "  </tbody>\n",
       "</table>\n",
       "</div>"
      ],
      "text/plain": [
       "                                            filepath          filename  \\\n",
       "0  /mnt/d/kikin/www.ssk.or.jp/seikyushiharai/tens...    05算定回数テーブル.csv   \n",
       "1  /mnt/d/kikin/www.ssk.or.jp/seikyushiharai/tens...  01補助マスターテーブル.csv   \n",
       "2  /mnt/d/kikin/www.ssk.or.jp/seikyushiharai/tens...      02包括テーブル.csv   \n",
       "3  /mnt/d/kikin/www.ssk.or.jp/seikyushiharai/tens...   03-1背反テーブル1.csv   \n",
       "4  /mnt/d/kikin/www.ssk.or.jp/seikyushiharai/tens...   03-2背反テーブル2.csv   \n",
       "\n",
       "        parent               gparent      bearfile timeinfo        prefix  \\\n",
       "0         サンプル            osirase_04    05算定回数テーブル             05算定回数テーブル   \n",
       "1  tensuhyo_02  tensuhyo_02_20120213  01補助マスターテーブル           01補助マスターテーブル   \n",
       "2  tensuhyo_02  tensuhyo_02_20120213      02包括テーブル               02包括テーブル   \n",
       "3  tensuhyo_02  tensuhyo_02_20120213   03-1背反テーブル1        1    03-1背反テーブル   \n",
       "4  tensuhyo_02  tensuhyo_02_20120213   03-2背反テーブル2        2    03-2背反テーブル   \n",
       "\n",
       "  ymdinfo postfix  is_kaitei ymd next_month_day1 next_month_day2  \n",
       "0                      False NaT             NaT             NaT  \n",
       "1                      False NaT             NaT             NaT  \n",
       "2                      False NaT             NaT             NaT  \n",
       "3       1              False NaT             NaT             NaT  \n",
       "4       2              False NaT             NaT             NaT  "
      ]
     },
     "execution_count": 17,
     "metadata": {},
     "output_type": "execute_result"
    }
   ],
   "source": [
    "df = pd.DataFrame({\"filepath\" : fs}) \\\n",
    "    .assign(filename = lambda df:get_file_atr_ds(df.filepath, \"name\"))\\\n",
    "    .assign(parent = lambda df:get_file_atr_ds(df.filepath, \"par\"))\\\n",
    "    .assign(gparent = lambda df:get_file_atr_ds(df.filepath, \"gpar\")) \\\n",
    "    .assign(bearfile = lambda df:df.filename.str.replace(\".csv\", \"\",regex=False)) \\\n",
    "    .assign(timeinfo = lambda df:df.bearfile.str.extract('([0-9R_]*$)')) \\\n",
    "    .assign(prefix = lambda df:df.bearfile.str.replace('([0-9_]*$)', \"\",regex=True)) \\\n",
    "    .assign(ymdinfo = lambda df:df.timeinfo.str.replace('^_', \"\",regex=True).str[:8]\\\n",
    "               .str.replace('2023201_$', \"20230201\",regex=True)) \\\n",
    "    .assign(postfix = lambda df:df.timeinfo.str.replace('^_', \"\",regex=True).str[8:]) \\\n",
    "    .assign(is_kaitei = lambda df:df.bearfile.str.contains(\"kaitei\")) \\\n",
    "    .assign(ymd = lambda df:pd.to_datetime(df.ymdinfo, errors=\"coerce\"))\\\n",
    "    .assign(next_month_day1 = lambda df:df.ymd + pd.offsets.MonthBegin(1)) \\\n",
    "    .assign(next_month_day2 = lambda df:df.next_month_day1 + datetime.timedelta(days =1))\n",
    "df.head()\n",
    "# .query(\"filepath == '/mnt/d/kikin/www.ssk.or.jp/seikyushiharai/tensuhyo/kihonmasta/kihonmasta_02.files/h-3_ALL2023201_R0504.csv'\")\\\n"
   ]
  },
  {
   "cell_type": "code",
   "execution_count": 18,
   "id": "7eb0acdc-e843-4971-980f-a86f6bff9215",
   "metadata": {
    "tags": []
   },
   "outputs": [
    {
     "data": {
      "text/plain": [
       "(1541, 13)"
      ]
     },
     "execution_count": 18,
     "metadata": {},
     "output_type": "execute_result"
    }
   ],
   "source": [
    "df.shape"
   ]
  },
  {
   "cell_type": "code",
   "execution_count": 19,
   "id": "0751db46-26c2-4edc-b12f-f13a2106d0a4",
   "metadata": {
    "tags": []
   },
   "outputs": [
    {
     "name": "stdout",
     "output_type": "stream",
     "text": [
      "CPU times: user 2.75 s, sys: 1.11 s, total: 3.86 s\n",
      "Wall time: 33.8 s\n"
     ]
    },
    {
     "data": {
      "text/html": [
       "<div>\n",
       "<style scoped>\n",
       "    .dataframe tbody tr th:only-of-type {\n",
       "        vertical-align: middle;\n",
       "    }\n",
       "\n",
       "    .dataframe tbody tr th {\n",
       "        vertical-align: top;\n",
       "    }\n",
       "\n",
       "    .dataframe thead th {\n",
       "        text-align: right;\n",
       "    }\n",
       "</style>\n",
       "<table border=\"1\" class=\"dataframe\">\n",
       "  <thead>\n",
       "    <tr style=\"text-align: right;\">\n",
       "      <th></th>\n",
       "      <th>filepath</th>\n",
       "      <th>sha256</th>\n",
       "      <th>md5</th>\n",
       "      <th>size</th>\n",
       "      <th>lastfmodification</th>\n",
       "      <th>filecreation</th>\n",
       "    </tr>\n",
       "  </thead>\n",
       "  <tbody>\n",
       "    <tr>\n",
       "      <th>0</th>\n",
       "      <td>/mnt/d/kikin/www.ssk.or.jp/seikyushiharai/tens...</td>\n",
       "      <td>890542a2abd7d040ab78783bb838af1c456dcdd54e314e...</td>\n",
       "      <td>59b395aa7c467f838d818cd0bf2580cd</td>\n",
       "      <td>10.673828125kB</td>\n",
       "      <td>2024-06-23 11:19:13.768090</td>\n",
       "      <td>2024-06-23 11:19:13.768090</td>\n",
       "    </tr>\n",
       "    <tr>\n",
       "      <th>1</th>\n",
       "      <td>/mnt/d/kikin/www.ssk.or.jp/seikyushiharai/tens...</td>\n",
       "      <td>38cfc25516491e252aef17f93ef4fa4de0ca64ee093485...</td>\n",
       "      <td>cf29e86e3c71970e1f4f88e1e74f5379</td>\n",
       "      <td>886.939453125kB</td>\n",
       "      <td>2024-06-23 11:19:13.811405</td>\n",
       "      <td>2024-06-23 11:19:13.811405</td>\n",
       "    </tr>\n",
       "    <tr>\n",
       "      <th>2</th>\n",
       "      <td>/mnt/d/kikin/www.ssk.or.jp/seikyushiharai/tens...</td>\n",
       "      <td>2b939f604846452eed5c891b4ad97d2b8d9633aa0d9f06...</td>\n",
       "      <td>70d068ccdf6093f9b24b963bb28062e1</td>\n",
       "      <td>6001.912109375kB</td>\n",
       "      <td>2024-06-23 11:19:13.940408</td>\n",
       "      <td>2024-06-23 11:19:13.940408</td>\n",
       "    </tr>\n",
       "    <tr>\n",
       "      <th>3</th>\n",
       "      <td>/mnt/d/kikin/www.ssk.or.jp/seikyushiharai/tens...</td>\n",
       "      <td>e9abb2b236605c230435dafe08e09bbf93941b402582a8...</td>\n",
       "      <td>9443610957dd09433753eb9230b2e1bf</td>\n",
       "      <td>578.05078125kB</td>\n",
       "      <td>2024-06-23 11:19:13.953470</td>\n",
       "      <td>2024-06-23 11:19:13.953470</td>\n",
       "    </tr>\n",
       "    <tr>\n",
       "      <th>4</th>\n",
       "      <td>/mnt/d/kikin/www.ssk.or.jp/seikyushiharai/tens...</td>\n",
       "      <td>92000a77113ec6044414d4f6a325a44463d850db653205...</td>\n",
       "      <td>fcb7bb8a12b2244dc42dffb0ed5ad644</td>\n",
       "      <td>392.81640625kB</td>\n",
       "      <td>2024-06-23 11:19:13.963620</td>\n",
       "      <td>2024-06-23 11:19:13.963620</td>\n",
       "    </tr>\n",
       "  </tbody>\n",
       "</table>\n",
       "</div>"
      ],
      "text/plain": [
       "                                            filepath  \\\n",
       "0  /mnt/d/kikin/www.ssk.or.jp/seikyushiharai/tens...   \n",
       "1  /mnt/d/kikin/www.ssk.or.jp/seikyushiharai/tens...   \n",
       "2  /mnt/d/kikin/www.ssk.or.jp/seikyushiharai/tens...   \n",
       "3  /mnt/d/kikin/www.ssk.or.jp/seikyushiharai/tens...   \n",
       "4  /mnt/d/kikin/www.ssk.or.jp/seikyushiharai/tens...   \n",
       "\n",
       "                                              sha256  \\\n",
       "0  890542a2abd7d040ab78783bb838af1c456dcdd54e314e...   \n",
       "1  38cfc25516491e252aef17f93ef4fa4de0ca64ee093485...   \n",
       "2  2b939f604846452eed5c891b4ad97d2b8d9633aa0d9f06...   \n",
       "3  e9abb2b236605c230435dafe08e09bbf93941b402582a8...   \n",
       "4  92000a77113ec6044414d4f6a325a44463d850db653205...   \n",
       "\n",
       "                                md5              size  \\\n",
       "0  59b395aa7c467f838d818cd0bf2580cd    10.673828125kB   \n",
       "1  cf29e86e3c71970e1f4f88e1e74f5379   886.939453125kB   \n",
       "2  70d068ccdf6093f9b24b963bb28062e1  6001.912109375kB   \n",
       "3  9443610957dd09433753eb9230b2e1bf    578.05078125kB   \n",
       "4  fcb7bb8a12b2244dc42dffb0ed5ad644    392.81640625kB   \n",
       "\n",
       "            lastfmodification                filecreation  \n",
       "0  2024-06-23 11:19:13.768090  2024-06-23 11:19:13.768090  \n",
       "1  2024-06-23 11:19:13.811405  2024-06-23 11:19:13.811405  \n",
       "2  2024-06-23 11:19:13.940408  2024-06-23 11:19:13.940408  \n",
       "3  2024-06-23 11:19:13.953470  2024-06-23 11:19:13.953470  \n",
       "4  2024-06-23 11:19:13.963620  2024-06-23 11:19:13.963620  "
      ]
     },
     "execution_count": 19,
     "metadata": {},
     "output_type": "execute_result"
    }
   ],
   "source": [
    "%%time\n",
    "# l_meta = []\n",
    "d_meta = get_meta_dict(df.filepath)\n",
    "\n",
    "df_meta = pd.DataFrame().from_dict(d_meta, orient=\"index\")\\\n",
    "    .reset_index(drop=False)\\\n",
    "    .rename(columns={\n",
    "    \"index\":\"filepath\"\n",
    "})\n",
    "df_meta.head()\n",
    "# for r in df.itertuples():\n",
    "#     print(r.filepath)\n",
    "\n",
    "#     l_meta.append(d_meta)"
   ]
  },
  {
   "cell_type": "code",
   "execution_count": 20,
   "id": "c284a2fc-e83b-4ef7-89cc-30fdf546faa6",
   "metadata": {
    "tags": []
   },
   "outputs": [
    {
     "data": {
      "text/plain": [
       "(1541, 18)"
      ]
     },
     "execution_count": 20,
     "metadata": {},
     "output_type": "execute_result"
    }
   ],
   "source": [
    "df_ = pd.merge(df, df_meta, on=\"filepath\")\n",
    "df_.shape"
   ]
  },
  {
   "cell_type": "code",
   "execution_count": 21,
   "id": "525246c4-a7d1-41ae-bd87-32f3a001b36c",
   "metadata": {
    "tags": []
   },
   "outputs": [
    {
     "data": {
      "text/plain": [
       "('./masterfile_20240623_111843_065477.xlsx',\n",
       " './masterfile_20240623_111843_065477.pkl')"
      ]
     },
     "execution_count": 21,
     "metadata": {},
     "output_type": "execute_result"
    }
   ],
   "source": [
    "f_x = \"./masterfile_{0}.xlsx\".format(ts)\n",
    "f_pk = \"./masterfile_{0}.pkl\".format(ts)\n",
    "f_x, f_pk"
   ]
  },
  {
   "cell_type": "code",
   "execution_count": 22,
   "id": "71acf80c-3166-470b-9761-9b2adaf1edeb",
   "metadata": {
    "tags": []
   },
   "outputs": [],
   "source": [
    "df_.to_excel(f_x)"
   ]
  },
  {
   "cell_type": "code",
   "execution_count": 23,
   "id": "1a0a93b4-3db7-44c2-930c-d9a11f211edf",
   "metadata": {
    "tags": []
   },
   "outputs": [],
   "source": [
    "df_.to_pickle(f_pk)"
   ]
  },
  {
   "cell_type": "code",
   "execution_count": null,
   "id": "b3da3957-396d-49a8-82bd-df2a8e39c7fd",
   "metadata": {
    "tags": []
   },
   "outputs": [],
   "source": []
  },
  {
   "cell_type": "code",
   "execution_count": 24,
   "id": "9bdd9f95-df4b-49ba-ad8e-83c66d4789f8",
   "metadata": {
    "tags": []
   },
   "outputs": [
    {
     "name": "stdout",
     "output_type": "stream",
     "text": [
      "2024-06-23\n"
     ]
    }
   ],
   "source": [
    "\n",
    "# today = datetime.datetime.today()\n",
    "today = datetime.datetime.fromisoformat(\"2024-06-23\")\n",
    "# start_day = \"2019-06-01\"\n",
    "start_day = \"2010-01-01\"\n",
    "max_proc_date = 1e+4\n",
    "# start_day = \"2020-06-01\"\n",
    "print(today.date())\n",
    "df_dt = pd.DataFrame().from_dict({\"dt\": pd.date_range(start_day, periods=max_proc_date, freq=\"D\")}) \\\n",
    "    .assign(dt_str = lambda df:df.dt.astype(str)) \\\n",
    "    .assign(yy_str = lambda df:df.dt.dt.year.astype(str)) \\\n",
    "    .assign(mm_str = lambda df:df.dt.dt.month.astype(str)) \\\n",
    "    .assign(dd_str = lambda df:df.dt.dt.day.astype(str)) \\\n",
    "    .assign(is_past = lambda df:df.dt < today ) \\\n",
    "    .query(\"is_past\") \\\n",
    "    .sort_values(\"dt\", ascending=True) \\\n",
    "    .reset_index(drop=True)\n",
    "# df.query(\"not is_past\").head()"
   ]
  },
  {
   "cell_type": "markdown",
   "id": "7a39c07b-c084-4ca8-a83d-d7ef4a9f8743",
   "metadata": {},
   "source": [
    "日付テーブル  \n",
    "この日付分マスターを作る"
   ]
  },
  {
   "cell_type": "code",
   "execution_count": 25,
   "id": "82351abd-b045-4b48-8b8c-af76df85f6ca",
   "metadata": {
    "tags": []
   },
   "outputs": [
    {
     "data": {
      "text/html": [
       "<div>\n",
       "<style scoped>\n",
       "    .dataframe tbody tr th:only-of-type {\n",
       "        vertical-align: middle;\n",
       "    }\n",
       "\n",
       "    .dataframe tbody tr th {\n",
       "        vertical-align: top;\n",
       "    }\n",
       "\n",
       "    .dataframe thead th {\n",
       "        text-align: right;\n",
       "    }\n",
       "</style>\n",
       "<table border=\"1\" class=\"dataframe\">\n",
       "  <thead>\n",
       "    <tr style=\"text-align: right;\">\n",
       "      <th></th>\n",
       "      <th>dt</th>\n",
       "      <th>dt_str</th>\n",
       "      <th>yy_str</th>\n",
       "      <th>mm_str</th>\n",
       "      <th>dd_str</th>\n",
       "      <th>is_past</th>\n",
       "    </tr>\n",
       "  </thead>\n",
       "  <tbody>\n",
       "    <tr>\n",
       "      <th>0</th>\n",
       "      <td>2010-01-01</td>\n",
       "      <td>2010-01-01</td>\n",
       "      <td>2010</td>\n",
       "      <td>1</td>\n",
       "      <td>1</td>\n",
       "      <td>True</td>\n",
       "    </tr>\n",
       "    <tr>\n",
       "      <th>1</th>\n",
       "      <td>2010-01-02</td>\n",
       "      <td>2010-01-02</td>\n",
       "      <td>2010</td>\n",
       "      <td>1</td>\n",
       "      <td>2</td>\n",
       "      <td>True</td>\n",
       "    </tr>\n",
       "    <tr>\n",
       "      <th>2</th>\n",
       "      <td>2010-01-03</td>\n",
       "      <td>2010-01-03</td>\n",
       "      <td>2010</td>\n",
       "      <td>1</td>\n",
       "      <td>3</td>\n",
       "      <td>True</td>\n",
       "    </tr>\n",
       "    <tr>\n",
       "      <th>3</th>\n",
       "      <td>2010-01-04</td>\n",
       "      <td>2010-01-04</td>\n",
       "      <td>2010</td>\n",
       "      <td>1</td>\n",
       "      <td>4</td>\n",
       "      <td>True</td>\n",
       "    </tr>\n",
       "    <tr>\n",
       "      <th>4</th>\n",
       "      <td>2010-01-05</td>\n",
       "      <td>2010-01-05</td>\n",
       "      <td>2010</td>\n",
       "      <td>1</td>\n",
       "      <td>5</td>\n",
       "      <td>True</td>\n",
       "    </tr>\n",
       "  </tbody>\n",
       "</table>\n",
       "</div>"
      ],
      "text/plain": [
       "          dt      dt_str yy_str mm_str dd_str  is_past\n",
       "0 2010-01-01  2010-01-01   2010      1      1     True\n",
       "1 2010-01-02  2010-01-02   2010      1      2     True\n",
       "2 2010-01-03  2010-01-03   2010      1      3     True\n",
       "3 2010-01-04  2010-01-04   2010      1      4     True\n",
       "4 2010-01-05  2010-01-05   2010      1      5     True"
      ]
     },
     "execution_count": 25,
     "metadata": {},
     "output_type": "execute_result"
    }
   ],
   "source": [
    "df_dt.head()"
   ]
  },
  {
   "cell_type": "code",
   "execution_count": 26,
   "id": "4afd529c-a5a9-48be-bcc3-0e1e4923f9cb",
   "metadata": {
    "tags": []
   },
   "outputs": [
    {
     "data": {
      "text/plain": [
       "('./datefile_20240623_111843_065477.xlsx',\n",
       " './datefile_20240623_111843_065477.pkl')"
      ]
     },
     "execution_count": 26,
     "metadata": {},
     "output_type": "execute_result"
    }
   ],
   "source": [
    "fdt_x = \"./datefile_{0}.xlsx\".format(ts)\n",
    "fdt_pk = \"./datefile_{0}.pkl\".format(ts)\n",
    "fdt_x, fdt_pk"
   ]
  },
  {
   "cell_type": "code",
   "execution_count": 27,
   "id": "07cb09eb-dcb8-4ec4-88d5-be0eb96cd0a8",
   "metadata": {
    "tags": []
   },
   "outputs": [],
   "source": [
    "df_dt.to_excel(fdt_x)\n",
    "df_dt.to_pickle(fdt_pk)"
   ]
  },
  {
   "cell_type": "code",
   "execution_count": null,
   "id": "39b4bc02-af45-456f-8044-f8ded31e973c",
   "metadata": {},
   "outputs": [],
   "source": []
  },
  {
   "cell_type": "code",
   "execution_count": null,
   "id": "61e77d69-350f-4bbb-a4d4-17d85ba4e708",
   "metadata": {},
   "outputs": [],
   "source": []
  }
 ],
 "metadata": {
  "kernelspec": {
   "display_name": "Python 3 (ipykernel)",
   "language": "python",
   "name": "python3"
  },
  "language_info": {
   "codemirror_mode": {
    "name": "ipython",
    "version": 3
   },
   "file_extension": ".py",
   "mimetype": "text/x-python",
   "name": "python",
   "nbconvert_exporter": "python",
   "pygments_lexer": "ipython3",
   "version": "3.10.11"
  }
 },
 "nbformat": 4,
 "nbformat_minor": 5
}
