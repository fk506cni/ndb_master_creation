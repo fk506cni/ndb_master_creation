{
 "cells": [
  {
   "cell_type": "markdown",
   "id": "5453868b-dff8-4f06-ba3a-a7fa25cf61f6",
   "metadata": {},
   "source": [
    "# download from kikin"
   ]
  },
  {
   "cell_type": "markdown",
   "id": "45a63924-ade7-4c1b-9e2d-8c8deb357c80",
   "metadata": {},
   "source": [
    "基金からマスターファイルをDL  \n",
    "wgetでリンクをたどる"
   ]
  },
  {
   "cell_type": "code",
   "execution_count": 1,
   "id": "bc24a6e9-80a8-4a78-909a-91bc3dc714db",
   "metadata": {
    "tags": []
   },
   "outputs": [
    {
     "data": {
      "text/plain": [
       "'20231122_094759_342798'"
      ]
     },
     "execution_count": 1,
     "metadata": {},
     "output_type": "execute_result"
    }
   ],
   "source": [
    "import datetime\n",
    "\n",
    "ts = datetime.datetime.now().strftime(\"%Y%m%d_%H%M%S_%f\")\n",
    "ts"
   ]
  },
  {
   "cell_type": "markdown",
   "id": "34ee24bf-8b1c-4f53-9eb4-382bc3ee485f",
   "metadata": {},
   "source": [
    "WSL上でD:\\\\kikin  \n",
    "にDLする想定"
   ]
  },
  {
   "cell_type": "code",
   "execution_count": 3,
   "id": "1049354d-515d-46ee-8e8b-6ccb8e19d3a6",
   "metadata": {
    "tags": []
   },
   "outputs": [],
   "source": [
    "# !rm -rf /mnt/d/kikin/"
   ]
  },
  {
   "cell_type": "code",
   "execution_count": 4,
   "id": "e581c751-684f-49ae-a492-3d36577f7657",
   "metadata": {
    "tags": []
   },
   "outputs": [],
   "source": [
    "!mkdir /mnt/d/kikin/"
   ]
  },
  {
   "cell_type": "code",
   "execution_count": 5,
   "id": "8d156638-0c96-4df2-ab12-7c89c937080e",
   "metadata": {
    "tags": []
   },
   "outputs": [
    {
     "name": "stdout",
     "output_type": "stream",
     "text": [
      "CPU times: user 6.77 s, sys: 2.33 s, total: 9.1 s\n",
      "Wall time: 6min 59s\n"
     ]
    }
   ],
   "source": [
    "%%time\n",
    "!wget -rkp -np -linf -P /mnt/d/kikin/ https://www.ssk.or.jp/seikyushiharai/tensuhyo/index.html > ../log.txt 2>&1 "
   ]
  },
  {
   "cell_type": "code",
   "execution_count": 6,
   "id": "da7609b5-72d8-40dc-92aa-506ea3e11efa",
   "metadata": {
    "tags": []
   },
   "outputs": [],
   "source": [
    "!echo $?\":exit status\" >> ../log.txt"
   ]
  },
  {
   "cell_type": "code",
   "execution_count": 8,
   "id": "8295363e-5b7d-4709-a53d-a4ccbd6ea2aa",
   "metadata": {
    "tags": []
   },
   "outputs": [
    {
     "name": "stdout",
     "output_type": "stream",
     "text": [
      "76-21\n",
      "Converting links in /mnt/d/kikin/www.ssk.or.jp/css/style_base.css... 33.\n",
      "32-1\n",
      "Converting links in /mnt/d/kikin/www.ssk.or.jp/css/style.wysiwyg.css... nothing to do.\n",
      "Converting links in /mnt/d/kikin/www.ssk.or.jp/css/style_print.css... nothing to do.\n",
      "Converting links in /mnt/d/kikin/www.ssk.or.jp/css/style_main.css... 7.\n",
      "7-0\n",
      "Converting links in /mnt/d/kikin/www.ssk.or.jp/css/style.tableconverter.css... nothing to do.\n",
      "Converted links in 82 files in 2.1 seconds.\n",
      "0:exit status\n"
     ]
    }
   ],
   "source": [
    "!tail ../log.txt"
   ]
  },
  {
   "cell_type": "code",
   "execution_count": null,
   "id": "b1c0c4b6-7415-4766-b5d8-f3919f6232c4",
   "metadata": {},
   "outputs": [],
   "source": []
  }
 ],
 "metadata": {
  "kernelspec": {
   "display_name": "Python 3 (ipykernel)",
   "language": "python",
   "name": "python3"
  },
  "language_info": {
   "codemirror_mode": {
    "name": "ipython",
    "version": 3
   },
   "file_extension": ".py",
   "mimetype": "text/x-python",
   "name": "python",
   "nbconvert_exporter": "python",
   "pygments_lexer": "ipython3",
   "version": "3.10.13"
  }
 },
 "nbformat": 4,
 "nbformat_minor": 5
}
