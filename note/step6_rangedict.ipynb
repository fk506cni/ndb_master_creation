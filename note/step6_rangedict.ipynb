{
 "cells": [
  {
   "cell_type": "code",
   "execution_count": 1,
   "id": "1c46c2ca-aeca-40d0-92f4-e6e858a67472",
   "metadata": {
    "tags": []
   },
   "outputs": [],
   "source": [
    "# create key value in range style"
   ]
  },
  {
   "cell_type": "code",
   "execution_count": 7,
   "id": "0448960e-cb49-483e-8e48-ef3581eee768",
   "metadata": {
    "tags": []
   },
   "outputs": [],
   "source": [
    "import bz2\n",
    "import json\n",
    "import datetime\n",
    "import pandas as pd\n",
    "import glob\n",
    "\n",
    "def jz2d(f_json):\n",
    "    with bz2.open(f_json, 'r') as f:\n",
    "        d = json.load(f)\n",
    "    return d\n",
    "\n",
    "def j2d(f_json):\n",
    "    with open(f_json, 'r') as f:\n",
    "        d = json.load(f)\n",
    "    return d\n",
    "\n",
    "\n",
    "\n",
    "def wdict2sdict(wd):\n",
    "    sd = pd.DataFrame().from_dict(wd, orient=\"index\")\\\n",
    "            .reset_index()\\\n",
    "            .rename(columns = {\"index\":\"dt\"})\\\n",
    "            .assign(dt = lambda df:pd.to_datetime(df.dt),\n",
    "                    lag_tag = lambda df:df.tag.shift(1, fill_value=\"\"),\n",
    "                    lag_point = lambda df:df.point.shift(1, fill_value=0))  \\\n",
    "            .assign(is_same_tag = lambda df:df.tag == df.lag_tag,\n",
    "                    is_same_point = lambda df:df.point == df.lag_point,\n",
    "                    is_same_two = lambda df:df.is_same_tag & df.is_same_point)\\\n",
    "            .query(\"not is_same_two\")\\\n",
    "            .loc[:,[\"dt\", \"tag\", \"point\"]]\\\n",
    "            .set_index(\"dt\")\\\n",
    "            .to_dict(orient= \"index\")\n",
    "    return sd\n",
    "\n",
    "class rangedict():\n",
    "    # d_meta = dict()\n",
    "    # d_dt = dict()\n",
    "    \n",
    "    def __init__(self, jfile):\n",
    "        d = j2d(jfile)\n",
    "        d_dt_whole = d.pop(\"dt\")\n",
    "        self.d_meta = d.copy()\n",
    "        self.d_dt = wdict2sdict(d_dt_whole)\n",
    "        self.d_1st = self.d_dt[next(iter(self.d_dt))]\n",
    "    \n",
    "    def get(self, dt):\n",
    "        #dt = datetime.datetime.strptime(dt, \"%Y-%m-%d\").date()\n",
    "        dt = pd.Timestamp(dt)\n",
    "        res = self.d_1st.copy()\n",
    "        for k, v in self.d_dt.items():\n",
    "            if dt < k:\n",
    "                break\n",
    "            else:\n",
    "                res = v.copy()\n",
    "            \n",
    "        return res"
   ]
  },
  {
   "cell_type": "code",
   "execution_count": 18,
   "id": "b9834600-6602-448f-87d5-bfeaa41b1499",
   "metadata": {
    "tags": []
   },
   "outputs": [],
   "source": [
    "# f = \"../output_iy/drgcd610406013_20230606_124628_792271.json.bz2\"\n",
    "f = \"../output_iy/iycode_641140136_20231122_150053_929635.json\"\n",
    "\n",
    "# dx = j2d(f)\n",
    "rd = rangedict(f)"
   ]
  },
  {
   "cell_type": "code",
   "execution_count": 19,
   "id": "41a1a194-ba8d-4811-ac24-4961a390a7f9",
   "metadata": {
    "tags": []
   },
   "outputs": [
    {
     "data": {
      "text/plain": [
       "{Timestamp('2010-01-01 00:00:00'): {'tag': 'bdm', 'point': 95.0},\n",
       " Timestamp('2012-05-02 00:00:00'): {'tag': 'ws', 'point': 92.0},\n",
       " Timestamp('2019-11-02 00:00:00'): {'tag': 'ws', 'point': 94.0},\n",
       " Timestamp('2020-10-02 00:00:00'): {'tag': 'aes', 'point': 94.0}}"
      ]
     },
     "execution_count": 19,
     "metadata": {},
     "output_type": "execute_result"
    }
   ],
   "source": [
    "rd.d_dt"
   ]
  },
  {
   "cell_type": "code",
   "execution_count": 20,
   "id": "65956259-266f-445c-9b43-e82e7a927f32",
   "metadata": {
    "tags": []
   },
   "outputs": [
    {
     "data": {
      "text/plain": [
       "{'tag': 'ws', 'point': 92.0}"
      ]
     },
     "execution_count": 20,
     "metadata": {},
     "output_type": "execute_result"
    }
   ],
   "source": [
    "rd.get(\"2013-4-1\")"
   ]
  },
  {
   "cell_type": "code",
   "execution_count": 21,
   "id": "825a6fa1-fc02-4151-b923-3e7c4cde3bfd",
   "metadata": {
    "tags": []
   },
   "outputs": [
    {
     "data": {
      "text/plain": [
       "{'tag': 'ws', 'point': 92.0}"
      ]
     },
     "execution_count": 21,
     "metadata": {},
     "output_type": "execute_result"
    }
   ],
   "source": [
    "rd.get(\"2014-4-10\")"
   ]
  },
  {
   "cell_type": "code",
   "execution_count": 23,
   "id": "ef1f27d9-d298-44df-a2f3-ee0bf260b0e1",
   "metadata": {
    "tags": []
   },
   "outputs": [
    {
     "data": {
      "text/plain": [
       "{'drugcode': 641140136,\n",
       " 'name': 'メチロン注２５％\\u3000１ｍＬ',\n",
       " 'nplcode': '1144400A2014',\n",
       " 'unit': '管',\n",
       " 'cat_for_mental': 0.0,\n",
       " 'cat_neuro_break': 0.0,\n",
       " 'cat_bio': 0.0,\n",
       " 'cat_generic': 0.0,\n",
       " 'dt_start': '2010-01-01',\n",
       " 'dt_end': '2023-08-31'}"
      ]
     },
     "execution_count": 23,
     "metadata": {},
     "output_type": "execute_result"
    }
   ],
   "source": [
    "rd.d_meta"
   ]
  },
  {
   "cell_type": "code",
   "execution_count": 24,
   "id": "b45c9253-e3b5-4189-98a9-2151ee868637",
   "metadata": {
    "tags": []
   },
   "outputs": [
    {
     "data": {
      "text/html": [
       "<div>\n",
       "<style scoped>\n",
       "    .dataframe tbody tr th:only-of-type {\n",
       "        vertical-align: middle;\n",
       "    }\n",
       "\n",
       "    .dataframe tbody tr th {\n",
       "        vertical-align: top;\n",
       "    }\n",
       "\n",
       "    .dataframe thead th {\n",
       "        text-align: right;\n",
       "    }\n",
       "</style>\n",
       "<table border=\"1\" class=\"dataframe\">\n",
       "  <thead>\n",
       "    <tr style=\"text-align: right;\">\n",
       "      <th></th>\n",
       "      <th>c0</th>\n",
       "      <th>c2</th>\n",
       "      <th>c4</th>\n",
       "      <th>c9</th>\n",
       "      <th>c10</th>\n",
       "      <th>c13</th>\n",
       "      <th>c14</th>\n",
       "      <th>c15</th>\n",
       "      <th>c16</th>\n",
       "      <th>c31</th>\n",
       "      <th>ymd</th>\n",
       "      <th>next_month_day1</th>\n",
       "      <th>next_month_day2</th>\n",
       "      <th>filename</th>\n",
       "      <th>dt_rank_neg</th>\n",
       "    </tr>\n",
       "  </thead>\n",
       "  <tbody>\n",
       "    <tr>\n",
       "      <th>2802</th>\n",
       "      <td>9</td>\n",
       "      <td>610406002</td>\n",
       "      <td>アストニール錠１０　１０ｍｇ</td>\n",
       "      <td>錠</td>\n",
       "      <td>NaN</td>\n",
       "      <td>0.0</td>\n",
       "      <td>0.0</td>\n",
       "      <td>0.0</td>\n",
       "      <td>1.0</td>\n",
       "      <td>2123014F2031</td>\n",
       "      <td>2013-03-29</td>\n",
       "      <td>2013-04-01</td>\n",
       "      <td>2013-04-02</td>\n",
       "      <td>y20130329.csv</td>\n",
       "      <td>1.0</td>\n",
       "    </tr>\n",
       "    <tr>\n",
       "      <th>4887</th>\n",
       "      <td>9</td>\n",
       "      <td>610406008</td>\n",
       "      <td>アゼピット錠１ｍｇ</td>\n",
       "      <td>錠</td>\n",
       "      <td>NaN</td>\n",
       "      <td>0.0</td>\n",
       "      <td>0.0</td>\n",
       "      <td>0.0</td>\n",
       "      <td>1.0</td>\n",
       "      <td>4490004F2010</td>\n",
       "      <td>2013-09-30</td>\n",
       "      <td>2013-10-01</td>\n",
       "      <td>2013-10-02</td>\n",
       "      <td>y20130930.csv</td>\n",
       "      <td>1.0</td>\n",
       "    </tr>\n",
       "    <tr>\n",
       "      <th>52035</th>\n",
       "      <td>9</td>\n",
       "      <td>610406009</td>\n",
       "      <td>アセメール錠１０　１０ｍｇ</td>\n",
       "      <td>錠</td>\n",
       "      <td>1.0</td>\n",
       "      <td>0.0</td>\n",
       "      <td>0.0</td>\n",
       "      <td>0.0</td>\n",
       "      <td>1.0</td>\n",
       "      <td>2123014F2040</td>\n",
       "      <td>2014-03-05</td>\n",
       "      <td>2014-04-01</td>\n",
       "      <td>2014-04-02</td>\n",
       "      <td>y20140305.csv</td>\n",
       "      <td>1.0</td>\n",
       "    </tr>\n",
       "    <tr>\n",
       "      <th>50315</th>\n",
       "      <td>9</td>\n",
       "      <td>610406013</td>\n",
       "      <td>アドメッセン錠１ｍｇ</td>\n",
       "      <td>錠</td>\n",
       "      <td>NaN</td>\n",
       "      <td>0.0</td>\n",
       "      <td>0.0</td>\n",
       "      <td>0.0</td>\n",
       "      <td>1.0</td>\n",
       "      <td>4490004F2010</td>\n",
       "      <td>2015-09-18</td>\n",
       "      <td>2015-10-01</td>\n",
       "      <td>2015-10-02</td>\n",
       "      <td>y20150918.csv</td>\n",
       "      <td>1.0</td>\n",
       "    </tr>\n",
       "    <tr>\n",
       "      <th>4888</th>\n",
       "      <td>9</td>\n",
       "      <td>610406015</td>\n",
       "      <td>アナシロール錠１０　１０ｍｇ</td>\n",
       "      <td>錠</td>\n",
       "      <td>NaN</td>\n",
       "      <td>0.0</td>\n",
       "      <td>0.0</td>\n",
       "      <td>0.0</td>\n",
       "      <td>1.0</td>\n",
       "      <td>2123014F2058</td>\n",
       "      <td>2013-09-30</td>\n",
       "      <td>2013-10-01</td>\n",
       "      <td>2013-10-02</td>\n",
       "      <td>y20130930.csv</td>\n",
       "      <td>1.0</td>\n",
       "    </tr>\n",
       "  </tbody>\n",
       "</table>\n",
       "</div>"
      ],
      "text/plain": [
       "       c0         c2              c4 c9  c10  c13  c14  c15  c16  \\\n",
       "2802    9  610406002  アストニール錠１０　１０ｍｇ  錠  NaN  0.0  0.0  0.0  1.0   \n",
       "4887    9  610406008       アゼピット錠１ｍｇ  錠  NaN  0.0  0.0  0.0  1.0   \n",
       "52035   9  610406009   アセメール錠１０　１０ｍｇ  錠  1.0  0.0  0.0  0.0  1.0   \n",
       "50315   9  610406013      アドメッセン錠１ｍｇ  錠  NaN  0.0  0.0  0.0  1.0   \n",
       "4888    9  610406015  アナシロール錠１０　１０ｍｇ  錠  NaN  0.0  0.0  0.0  1.0   \n",
       "\n",
       "                c31        ymd next_month_day1 next_month_day2       filename  \\\n",
       "2802   2123014F2031 2013-03-29      2013-04-01      2013-04-02  y20130329.csv   \n",
       "4887   4490004F2010 2013-09-30      2013-10-01      2013-10-02  y20130930.csv   \n",
       "52035  2123014F2040 2014-03-05      2014-04-01      2014-04-02  y20140305.csv   \n",
       "50315  4490004F2010 2015-09-18      2015-10-01      2015-10-02  y20150918.csv   \n",
       "4888   2123014F2058 2013-09-30      2013-10-01      2013-10-02  y20130930.csv   \n",
       "\n",
       "       dt_rank_neg  \n",
       "2802           1.0  \n",
       "4887           1.0  \n",
       "52035          1.0  \n",
       "50315          1.0  \n",
       "4888           1.0  "
      ]
     },
     "execution_count": 24,
     "metadata": {},
     "output_type": "execute_result"
    }
   ],
   "source": [
    "f_drg_meta = \"../appendix/dfmeta_iy_20230606_124628_792271.pkl\"\n",
    "df_drg = pd.read_pickle(f_drg_meta)\n",
    "df_drg.head()"
   ]
  },
  {
   "cell_type": "code",
   "execution_count": 25,
   "id": "9cdba682-aa2f-4c83-bd52-a6ae8fc5d6ba",
   "metadata": {
    "tags": []
   },
   "outputs": [
    {
     "data": {
      "text/plain": [
       "[]"
      ]
     },
     "execution_count": 25,
     "metadata": {},
     "output_type": "execute_result"
    }
   ],
   "source": [
    "fs = glob.glob(\"../output_iy/*.json.bz2\")\n",
    "fs[:3]"
   ]
  },
  {
   "cell_type": "code",
   "execution_count": 13,
   "id": "c6866f11-cb57-4645-8b7a-1e7a2ed98e15",
   "metadata": {},
   "outputs": [],
   "source": [
    "def get_cdrd(f):\n",
    "    # cd = f.replace(\"../output_iy/drgcd\", \"\").replace(\"_20230606_124628_792271.json.bz2\",\"\")\n",
    "    cd = f.replace(\"../output_iy/drgcd\", \"\").replace(\"_20230606_124628_792271.json.bz2\",\"\")\n",
    "    rd = rangedict(f)\n",
    "    return [cd, rd]"
   ]
  },
  {
   "cell_type": "code",
   "execution_count": 18,
   "id": "f4448ec1-b931-4bbe-ab70-ae0be1515408",
   "metadata": {},
   "outputs": [],
   "source": [
    "import joblib"
   ]
  },
  {
   "cell_type": "code",
   "execution_count": 19,
   "id": "49aa7e0a-720c-4011-98de-b149cf65e957",
   "metadata": {},
   "outputs": [
    {
     "name": "stderr",
     "output_type": "stream",
     "text": [
      "[Parallel(n_jobs=-1)]: Using backend LokyBackend with 8 concurrent workers.\n",
      "[Parallel(n_jobs=-1)]: Done   2 tasks      | elapsed:    1.9s\n",
      "[Parallel(n_jobs=-1)]: Done  56 tasks      | elapsed:    2.5s\n",
      "[Parallel(n_jobs=-1)]: Done 236 tasks      | elapsed:    4.2s\n",
      "[Parallel(n_jobs=-1)]: Done 488 tasks      | elapsed:    6.8s\n",
      "[Parallel(n_jobs=-1)]: Done 812 tasks      | elapsed:   10.0s\n",
      "[Parallel(n_jobs=-1)]: Done 1208 tasks      | elapsed:   13.7s\n",
      "[Parallel(n_jobs=-1)]: Done 1676 tasks      | elapsed:   18.1s\n",
      "[Parallel(n_jobs=-1)]: Done 2216 tasks      | elapsed:   23.5s\n",
      "[Parallel(n_jobs=-1)]: Done 2828 tasks      | elapsed:   29.6s\n",
      "[Parallel(n_jobs=-1)]: Done 3512 tasks      | elapsed:   36.7s\n",
      "[Parallel(n_jobs=-1)]: Done 4268 tasks      | elapsed:   44.2s\n",
      "[Parallel(n_jobs=-1)]: Done 5096 tasks      | elapsed:   53.1s\n",
      "[Parallel(n_jobs=-1)]: Done 5996 tasks      | elapsed:  1.1min\n",
      "[Parallel(n_jobs=-1)]: Done 6968 tasks      | elapsed:  1.3min\n",
      "[Parallel(n_jobs=-1)]: Done 8012 tasks      | elapsed:  1.5min\n",
      "[Parallel(n_jobs=-1)]: Done 9128 tasks      | elapsed:  1.8min\n",
      "[Parallel(n_jobs=-1)]: Done 10316 tasks      | elapsed:  2.0min\n",
      "[Parallel(n_jobs=-1)]: Done 11576 tasks      | elapsed:  2.3min\n",
      "[Parallel(n_jobs=-1)]: Done 12908 tasks      | elapsed:  2.6min\n",
      "[Parallel(n_jobs=-1)]: Done 14312 tasks      | elapsed:  2.9min\n",
      "[Parallel(n_jobs=-1)]: Done 15788 tasks      | elapsed:  3.2min\n",
      "[Parallel(n_jobs=-1)]: Done 17336 tasks      | elapsed:  3.5min\n",
      "[Parallel(n_jobs=-1)]: Done 18956 tasks      | elapsed:  3.8min\n",
      "[Parallel(n_jobs=-1)]: Done 20648 tasks      | elapsed:  4.1min\n",
      "[Parallel(n_jobs=-1)]: Done 22412 tasks      | elapsed:  4.5min\n",
      "[Parallel(n_jobs=-1)]: Done 24248 tasks      | elapsed:  4.8min\n",
      "[Parallel(n_jobs=-1)]: Done 26156 tasks      | elapsed:  5.2min\n",
      "[Parallel(n_jobs=-1)]: Done 28136 tasks      | elapsed:  5.6min\n",
      "[Parallel(n_jobs=-1)]: Done 30188 tasks      | elapsed:  6.0min\n"
     ]
    },
    {
     "name": "stdout",
     "output_type": "stream",
     "text": [
      "CPU times: user 2min 5s, sys: 6.31 s, total: 2min 12s\n",
      "Wall time: 6min 10s\n"
     ]
    },
    {
     "name": "stderr",
     "output_type": "stream",
     "text": [
      "[Parallel(n_jobs=-1)]: Done 31276 out of 31291 | elapsed:  6.2min remaining:    0.2s\n",
      "[Parallel(n_jobs=-1)]: Done 31291 out of 31291 | elapsed:  6.2min finished\n"
     ]
    }
   ],
   "source": [
    "%%time \n",
    "l_res = joblib.Parallel(n_jobs=-1, verbose=5)(joblib.delayed(get_cdrd)(f) for f in fs)"
   ]
  },
  {
   "cell_type": "code",
   "execution_count": null,
   "id": "7353adc5-74a9-4b15-a2fc-e073bd7fa32c",
   "metadata": {},
   "outputs": [],
   "source": []
  },
  {
   "cell_type": "code",
   "execution_count": 20,
   "id": "da7d80bc-f836-4b1f-858e-ab0f1f2df530",
   "metadata": {},
   "outputs": [
    {
     "name": "stdout",
     "output_type": "stream",
     "text": [
      "CPU times: user 29.6 ms, sys: 0 ns, total: 29.6 ms\n",
      "Wall time: 28.1 ms\n"
     ]
    }
   ],
   "source": [
    "%%time\n",
    "\n",
    "d_whole_iy = dict()\n",
    "for e in l_res:\n",
    "    d_whole_iy[e[0]] = e[1]"
   ]
  },
  {
   "cell_type": "code",
   "execution_count": 21,
   "id": "d23eb851-f8ec-42b0-9e55-904c9a64bb08",
   "metadata": {},
   "outputs": [
    {
     "data": {
      "text/plain": [
       "{'tag': 'ws', 'point': 6.2}"
      ]
     },
     "execution_count": 21,
     "metadata": {},
     "output_type": "execute_result"
    }
   ],
   "source": [
    "d_whole_iy[\"610406008\"].get(\"2012-8-4\")\n"
   ]
  },
  {
   "cell_type": "code",
   "execution_count": 22,
   "id": "86d772de-73e1-40ef-b637-e15ec07cd74a",
   "metadata": {},
   "outputs": [
    {
     "data": {
      "text/plain": [
       "{'drugcode': 610406008,\n",
       " 'name': 'アゼピット錠１ｍｇ',\n",
       " 'nplcode': '4490004F2010',\n",
       " 'unit': '錠',\n",
       " 'cat_for_mental': 0.0,\n",
       " 'cat_neuro_break': 0.0,\n",
       " 'cat_bio': 0.0,\n",
       " 'cat_generic': 1.0,\n",
       " 'dt_start': '2010-01-01',\n",
       " 'dt_end': '2023-06-03'}"
      ]
     },
     "execution_count": 22,
     "metadata": {},
     "output_type": "execute_result"
    }
   ],
   "source": [
    "d_whole_iy[\"610406008\"].d_meta"
   ]
  },
  {
   "cell_type": "code",
   "execution_count": 23,
   "id": "f6227571-8b4a-4e6d-bf90-d152e88c5047",
   "metadata": {},
   "outputs": [],
   "source": [
    "import sys"
   ]
  },
  {
   "cell_type": "code",
   "execution_count": 24,
   "id": "18477189-89f1-4fb0-b643-154cbec33ef3",
   "metadata": {},
   "outputs": [],
   "source": [
    "sz = sys.getsizeof(d_whole_iy)"
   ]
  },
  {
   "cell_type": "code",
   "execution_count": 26,
   "id": "ed55bdda-fd91-4ab7-9faa-f7543a36bcec",
   "metadata": {},
   "outputs": [
    {
     "name": "stdout",
     "output_type": "stream",
     "text": [
      "<class 'int'>: 1310808\n"
     ]
    }
   ],
   "source": [
    "print(f'{type(sz)}: {sz}')"
   ]
  },
  {
   "cell_type": "code",
   "execution_count": null,
   "id": "567e8610-8cbb-4319-846b-f0592cb6cfe9",
   "metadata": {},
   "outputs": [],
   "source": []
  }
 ],
 "metadata": {
  "kernelspec": {
   "display_name": "Python 3 (ipykernel)",
   "language": "python",
   "name": "python3"
  },
  "language_info": {
   "codemirror_mode": {
    "name": "ipython",
    "version": 3
   },
   "file_extension": ".py",
   "mimetype": "text/x-python",
   "name": "python",
   "nbconvert_exporter": "python",
   "pygments_lexer": "ipython3",
   "version": "3.10.13"
  }
 },
 "nbformat": 4,
 "nbformat_minor": 5
}
